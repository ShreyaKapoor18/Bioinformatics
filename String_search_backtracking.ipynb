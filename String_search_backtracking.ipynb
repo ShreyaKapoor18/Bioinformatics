{
 "cells": [
  {
   "cell_type": "code",
   "execution_count": 1,
   "metadata": {},
   "outputs": [],
   "source": [
    "import numpy as np"
   ]
  },
  {
   "cell_type": "markdown",
   "metadata": {},
   "source": [
    "## Searching the similarity of strings"
   ]
  },
  {
   "cell_type": "code",
   "execution_count": 2,
   "metadata": {},
   "outputs": [
    {
     "data": {
      "text/plain": [
       "\"a = input('Enter string!')\\nb = input('Enter another string!')\\nn = min(len(a),len(b))\\ni = 0 \\nwhile(i<n) and a[i]==b[i]: \\n        i+=1 \\nif i>=n : \\n    print('Same ')\\nelse: \\n    print ('Different')\""
      ]
     },
     "execution_count": 2,
     "metadata": {},
     "output_type": "execute_result"
    }
   ],
   "source": [
    "'''a = input('Enter string!')\n",
    "b = input('Enter another string!')\n",
    "n = min(len(a),len(b))\n",
    "i = 0 \n",
    "while(i<n) and a[i]==b[i]: \n",
    "        i+=1 \n",
    "if i>=n : \n",
    "    print('Same ')\n",
    "else: \n",
    "    print ('Different')'''"
   ]
  },
  {
   "cell_type": "markdown",
   "metadata": {},
   "source": [
    "## search a string of smaller length in a string of longer length!"
   ]
  },
  {
   "cell_type": "code",
   "execution_count": 3,
   "metadata": {},
   "outputs": [],
   "source": [
    "a = 'ACTGAAATTGG'\n",
    "b = 'TTG'\n",
    "n = len(a)\n",
    "m = len(b)\n",
    "#assuming b is the string with smaller length\n",
    "# we have to find the whole string b in the string A\n",
    "offset = 0 \n",
    "found = False \n",
    "while n-m > offset and not found : \n",
    "    i = 0 \n",
    "    while i<m and a[i+offset] == b[i]: \n",
    "        i+=1 \n",
    "    found = True if i>=m else False \n",
    "    offset+=1\n",
    "\n",
    "    \n",
    "    "
   ]
  },
  {
   "cell_type": "code",
   "execution_count": 4,
   "metadata": {},
   "outputs": [
    {
     "data": {
      "text/plain": [
       "True"
      ]
     },
     "execution_count": 4,
     "metadata": {},
     "output_type": "execute_result"
    }
   ],
   "source": [
    "found "
   ]
  },
  {
   "cell_type": "code",
   "execution_count": 5,
   "metadata": {},
   "outputs": [],
   "source": [
    "## Sequence Alignment!"
   ]
  },
  {
   "cell_type": "code",
   "execution_count": 6,
   "metadata": {},
   "outputs": [],
   "source": [
    "\n",
    "S=[\n",
    "[5, -2, -1, -2, -1, -1, -1, 0, -2, -1, -2, -1, -1, -3, -1, 1, 0, -3, -2, 0],\n",
    "[-2, 7, -1, -2, -4, 1, 0, -3, 0, -4, -3, 3, -2, -3, -3, -1, -1, -3, -1, -3],\n",
    "[-1, -1, 7, 2, -2, 0, 0, 0, 1, -3, -4, 0, -2, -4, -2, 1, 0, -4, -2, -3],\n",
    "[-2, -2, 2, 8, -4, 0, 2, -1, -1, -4, -4, -1, -4, -5, -1, 0, -1, -5, -3, -4],\n",
    "[-1, -4, -2, -4, 13, -3, -3, -3, -3, -2, -2, -3, -2, -2, -4, -1, -1, -5, -3, -1], [-1, 1, 0, 0, -3, 7, 2, -2, 1, -3, -2, 2, 0, -4, -1, 0, -1, -1, -1, -3],\n",
    "[-1, 0, 0, 2, -3, 2, 6, -3, 0, -4, -3, 1, -2, -3, -1, -1, -1, -3, 2, -3],\n",
    "[0, -3, 0, -1, -3, -2, -3, 8, -2, -4, -2, -2, -3, -4, -2, 0, -2, -3, -3, -4], [-2, 0, 1, -1, -3, 1, 0, -2, 10, -4, -3, 0, -1, -1, -2, -1, -2, -3, 2, -4],\n",
    "[-1, -4, -3, -4, -2, -3, -4, -4, -4, 5, 2, -3, 2, 0, -3, -3, -1, -3, -1, 4],\n",
    "[-2, -3, -4, -4, -2, -2, -3, -2, -3, 2, 5, -3, 3, 1, -4, -3, -1, -2, -1, 1],\n",
    "[-1, 3, 0, -1, -3, 2, 1, -2, 0, -3, -3, 6, -2, -4, -1, 0, -1, -3, -2, -3],\n",
    "[-1, -1, -1, -1, -1, -1, -1, -1, -1, -1, -1, -1, 7, 0, -3, -2, -1, -1, 0, 1], [-3, -3, -4, -5, -2, -4, -3, -4, -1, 0, 1, -4, 0, 8, -4, -3, -2, 1, 4, -1],\n",
    "[-1, -3, -2, -1, -4, -1, -1, -2, -2, -3, -4, -1, -3, -4, 10, -1, -1, -4, -3, -3], [1, -1, 1, 0, -1, 0, -1, 0, -1, -3, -3, 0, -2, -3, -1, 5, 2, -4, -2, -2], [0,-1,0, -1,-1,-1,-1,-2,-2,-1,-1,-1,-1,-2,-1,2,5,-3,-2,0], [-3, -3, -4, -5, -5, -1, -3, -3, -3, -3, -2, -3, -1, 1, -4, -4, -3, 15, 2, -3], [-2, -1, -2, -3, -3, -1, -2, -3, 2, -1, -1, -2, 0, 4, -3, -2, -2, 2, 8, -1],\n",
    "[0, -3, -3, -4, -1, -3, -3, -4, -4, 4, 1, -3, 1, -1, -3, -2, 0, -3, -1, 5]\n",
    "]"
   ]
  },
  {
   "cell_type": "code",
   "execution_count": 7,
   "metadata": {},
   "outputs": [
    {
     "name": "stdout",
     "output_type": "stream",
     "text": [
      "20\n",
      "20\n"
     ]
    }
   ],
   "source": [
    "print (len(S)) \n",
    "print (len(S[0]))"
   ]
  },
  {
   "cell_type": "code",
   "execution_count": 8,
   "metadata": {},
   "outputs": [],
   "source": [
    "keys = ['A','R','N','D','C','Q','E','G','H','I','L','K','M','F','P','S','T','W','Y','V'] \n"
   ]
  },
  {
   "cell_type": "code",
   "execution_count": 9,
   "metadata": {},
   "outputs": [
    {
     "data": {
      "text/plain": [
       "-2"
      ]
     },
     "execution_count": 9,
     "metadata": {},
     "output_type": "execute_result"
    }
   ],
   "source": [
    "S[keys.index(a[0])-1][keys.index(b[0])-1]"
   ]
  },
  {
   "cell_type": "code",
   "execution_count": 10,
   "metadata": {},
   "outputs": [],
   "source": [
    "#let there be two strings a and b \n",
    "a = 'HEAGAWGHEE'\n",
    "b = 'PAWHEAE' \n",
    "\n"
   ]
  },
  {
   "cell_type": "code",
   "execution_count": 11,
   "metadata": {},
   "outputs": [],
   "source": [
    "AA =\"arndcqeghilkmfpstwyv\"\n",
    "a = a.lower()\n",
    "b = b.lower()\n",
    "M = len (a) + 1;\n",
    "N = len (b) + 1;\n",
    "d = 8; # gap penalty\n",
    "#create f filled with zeroes\n",
    "f = [[0 for x in range(M)] for y in range(N)]\n",
    "for i in range (M) :\n",
    "    f[0][i]=-i*d;\n",
    "for j in range (N) :\n",
    "    f[j][0]=-j*d; \n",
    "for i in range (1,N) :\n",
    "    for j in range (1, M) :\n",
    "        #print (a[j-1],b[i-1])\n",
    "        #print ([AA.index(a[j-1]),AA.index(b[i-1])])\n",
    "        score = S[AA.index(a[j-1])][AA.index(b[i-1])]\n",
    "        f [i][j] = max ([f[i-1][j-1]+ score, f [i-1][j]-d, f [i][j-1]-d])"
   ]
  },
  {
   "cell_type": "code",
   "execution_count": 12,
   "metadata": {},
   "outputs": [],
   "source": [
    "f = np.array(f)"
   ]
  },
  {
   "cell_type": "code",
   "execution_count": 13,
   "metadata": {},
   "outputs": [
    {
     "data": {
      "text/plain": [
       "array([[  0,  -8, -16, -24, -32, -40, -48, -56, -64, -72, -80],\n",
       "       [ -8,  -2,  -9, -17, -25, -33, -41, -49, -57, -65, -73],\n",
       "       [-16, -10,  -3,  -4, -12, -20, -28, -36, -44, -52, -60],\n",
       "       [-24, -18, -11,  -6,  -7, -15,  -5, -13, -21, -29, -37],\n",
       "       [-32, -14, -18, -13,  -8,  -9, -13,  -7,  -3, -11, -19],\n",
       "       [-40, -22,  -8, -16, -16,  -9, -12, -15,  -7,   3,  -5],\n",
       "       [-48, -30, -16,  -3, -11, -11, -12, -12, -15,  -5,   2],\n",
       "       [-56, -38, -24, -11,  -6, -12, -14, -15, -12,  -9,   1]])"
      ]
     },
     "execution_count": 13,
     "metadata": {},
     "output_type": "execute_result"
    }
   ],
   "source": [
    "f"
   ]
  },
  {
   "cell_type": "code",
   "execution_count": 14,
   "metadata": {},
   "outputs": [
    {
     "data": {
      "text/plain": [
       "[('x', array([  0,  -8, -16, -24, -32, -40, -48, -56, -64, -72, -80])),\n",
       " ('p', array([ -8,  -2,  -9, -17, -25, -33, -41, -49, -57, -65, -73])),\n",
       " ('a', array([-16, -10,  -3,  -4, -12, -20, -28, -36, -44, -52, -60])),\n",
       " ('w', array([-24, -18, -11,  -6,  -7, -15,  -5, -13, -21, -29, -37])),\n",
       " ('h', array([-32, -14, -18, -13,  -8,  -9, -13,  -7,  -3, -11, -19])),\n",
       " ('e', array([-40, -22,  -8, -16, -16,  -9, -12, -15,  -7,   3,  -5])),\n",
       " ('a', array([-48, -30, -16,  -3, -11, -11, -12, -12, -15,  -5,   2])),\n",
       " ('e', array([-56, -38, -24, -11,  -6, -12, -14, -15, -12,  -9,   1]))]"
      ]
     },
     "execution_count": 14,
     "metadata": {},
     "output_type": "execute_result"
    }
   ],
   "source": [
    "list(zip('x'+b,f))"
   ]
  },
  {
   "cell_type": "code",
   "execution_count": 15,
   "metadata": {},
   "outputs": [
    {
     "data": {
      "text/plain": [
       "'heagawghee'"
      ]
     },
     "execution_count": 15,
     "metadata": {},
     "output_type": "execute_result"
    }
   ],
   "source": [
    "a"
   ]
  },
  {
   "cell_type": "code",
   "execution_count": 16,
   "metadata": {},
   "outputs": [],
   "source": [
    "score = S[AA.index(a[-1])][AA.index(b[-1])]\n",
    "max_ = max(f[-1][-2]-d,f[-2][-1]-d, f[-2][-2] + score )"
   ]
  },
  {
   "cell_type": "code",
   "execution_count": 17,
   "metadata": {},
   "outputs": [
    {
     "data": {
      "text/plain": [
       "20"
      ]
     },
     "execution_count": 17,
     "metadata": {},
     "output_type": "execute_result"
    }
   ],
   "source": [
    "len(AA)"
   ]
  },
  {
   "cell_type": "code",
   "execution_count": 18,
   "metadata": {},
   "outputs": [],
   "source": [
    "def back_track(f,a,b): \n",
    "    global AA\n",
    "    global S\n",
    "    global d\n",
    "    if len(a)!=0 and len(b)!= 0 :\n",
    "        #print ('Yes')\n",
    "        if len(f)>1 and len(f[0])>1 : \n",
    "            score = S[AA.index(a[-1])][AA.index(b[-1])]\n",
    "            #print (score)\n",
    "            #print (f[-2][-2]+score)\n",
    "            if f[-1][-1] == f[-1][-2]-d:\n",
    "                la =  [a[-1]]\n",
    "                #print ('left',a[-1],'-')\n",
    "                lb = ['-']\n",
    "                #gap introduced in left\n",
    "                if back_track(f[:,:-1],a[:-1],b)!= None: \n",
    "                    la.extend(back_track(f[:,:-1],a[:-1],b)[0])\n",
    "                    lb.extend(back_track(f[:,:-1],a[:-1],b)[1])\n",
    "                return [la,lb]\n",
    "            if f[-1][-1] == f[-2][-1]-d:  \n",
    "                #print ('up','-',b[-1])\n",
    "                la = ['-']\n",
    "                lb = [b[-1]]\n",
    "                if back_track(f[:-1,:],a,b[:-1])!= None:\n",
    "                    la.extend(back_track(f[:-1,:],a,b[:-1])[0])\n",
    "                    lb.extend(back_track(f[:-1,:],a,b[:-1])[1])\n",
    "                return [la,lb]\n",
    "            if f[-1][-1] == f[-2][-2]+score: \n",
    "                #print ('diagonal',a[-1],b[-1])\n",
    "                la = [a[-1]]\n",
    "                lb = [b[-1]]\n",
    "                if back_track(f[:-1,:-1],a[:-1],b[:-1])!= None:\n",
    "                    la.extend(back_track(f[:-1,:-1],a[:-1],b[:-1])[0])\n",
    "                    lb.extend(back_track(f[:-1,:-1],a[:-1],b[:-1])[1])\n",
    "                return [la,lb]\n",
    "        \n",
    "    if len(b)==0 and len(a)!=0: \n",
    "                #print ('first col')\n",
    "                la =  a\n",
    "                #print (len(a))\n",
    "                #print(a)\n",
    "                lb = ['-'*len(a)]\n",
    "                  \n",
    "                return [la,lb]\n",
    "\n",
    "    if len(a)==0 and len(b)!=0:\n",
    "                #print ('first row')\n",
    "                la =['-'*len(b)]\n",
    "                lb = b\n",
    "                \n",
    "                return [la,lb]\n",
    "    "
   ]
  },
  {
   "cell_type": "code",
   "execution_count": 19,
   "metadata": {},
   "outputs": [
    {
     "name": "stdout",
     "output_type": "stream",
     "text": [
      "heagawghe-e\n",
      "-pa--w-heae\n"
     ]
    }
   ],
   "source": [
    "print (\"\".join(back_track(f,a,b)[0])[::-1])\n",
    "print (\"\".join(back_track(f,a,b)[1])[::-1])\n",
    "#multiple solutions are possible if the choice isnt unique!"
   ]
  },
  {
   "cell_type": "code",
   "execution_count": 20,
   "metadata": {},
   "outputs": [
    {
     "name": "stdout",
     "output_type": "stream",
     "text": [
      "heagawghee\n",
      "pawheae\n"
     ]
    }
   ],
   "source": [
    "print (a)\n",
    "print (b)"
   ]
  },
  {
   "cell_type": "code",
   "execution_count": 21,
   "metadata": {},
   "outputs": [
    {
     "data": {
      "text/plain": [
       "-1"
      ]
     },
     "execution_count": 21,
     "metadata": {},
     "output_type": "execute_result"
    }
   ],
   "source": [
    "S[AA.index('a')][AA.index('p')]"
   ]
  },
  {
   "cell_type": "code",
   "execution_count": 23,
   "metadata": {},
   "outputs": [
    {
     "data": {
      "text/plain": [
       "-1"
      ]
     },
     "execution_count": 23,
     "metadata": {},
     "output_type": "execute_result"
    }
   ],
   "source": [
    "S[AA.index('e')][AA.index('p')]\n",
    "#it is the same thing since the penalty is the same"
   ]
  }
 ],
 "metadata": {
  "kernelspec": {
   "display_name": "Python 3",
   "language": "python",
   "name": "python3"
  },
  "language_info": {
   "codemirror_mode": {
    "name": "ipython",
    "version": 3
   },
   "file_extension": ".py",
   "mimetype": "text/x-python",
   "name": "python",
   "nbconvert_exporter": "python",
   "pygments_lexer": "ipython3",
   "version": "3.7.5"
  }
 },
 "nbformat": 4,
 "nbformat_minor": 2
}
